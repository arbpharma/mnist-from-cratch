{
 "cells": [
  {
   "cell_type": "code",
   "execution_count": 1,
   "id": "454d6e8b",
   "metadata": {},
   "outputs": [],
   "source": [
    "import numpy as np\n",
    "from keras.datasets import mnist\n",
    "import random\n",
    "from tqdm import trange"
   ]
  },
  {
   "cell_type": "code",
   "execution_count": 2,
   "id": "8c05965c",
   "metadata": {},
   "outputs": [],
   "source": [
    "(train_X, train_y), (test_X, test_y) = mnist.load_data()"
   ]
  },
  {
   "cell_type": "code",
   "execution_count": 3,
   "id": "7ff1195b",
   "metadata": {},
   "outputs": [
    {
     "data": {
      "text/plain": [
       "60000"
      ]
     },
     "execution_count": 3,
     "metadata": {},
     "output_type": "execute_result"
    }
   ],
   "source": [
    "train_y.size"
   ]
  },
  {
   "cell_type": "code",
   "execution_count": 4,
   "id": "2af0c1b4",
   "metadata": {},
   "outputs": [
    {
     "data": {
      "text/plain": [
       "(<matplotlib.image.AxesImage at 0x2265e6c6e60>, 5)"
      ]
     },
     "execution_count": 4,
     "metadata": {},
     "output_type": "execute_result"
    },
    {
     "data": {
      "image/png": "[encoded data removed]",
      "text/plain": [
       "<Figure size 640x480 with 1 Axes>"
      ]
     },
     "metadata": {},
     "output_type": "display_data"
    }
   ],
   "source": [
    "imshow(train_X[0]), train_y[0]"
   ]
  },
  {
   "cell_type": "code",
   "execution_count": 5,
   "id": "9c7b17b3",
   "metadata": {},
   "outputs": [
    {
     "name": "stdout",
     "output_type": "stream",
     "text": [
      "  0   0   0   0   0   0   0   0   0   0   0   0   0   0   0   0   0   0   0   0   0   0   0   0   0   0   0   0\n",
      "  0   0   0   0   0   0   0   0   0   0   0   0   0   0   0   0   0   0   0   0   0   0   0   0   0   0   0   0\n",
      "  0   0   0   0   0   0   0   0   0   0   0   0   0   0   0   0   0   0   0   0   0   0   0   0   0   0   0   0\n",
      "  0   0   0   0   0   0   0   0   0   0   0   0   0   0   0   0   0   0   0   0   0   0   0   0   0   0   0   0\n",
      "  0   0   0   0   0   0   0   0   0   0   0   0   0   0   0   0   0   0   0   0   0   0   0   0   0   0   0   0\n",
      "  0   0   0   0   0   0   0   0   0   0   0   0   3  18  18  18 126 136 175  26 166 255 247 127   0   0   0   0\n",
      "  0   0   0   0   0   0   0   0  30  36  94 154 170 253 253 253 253 253 225 172 253 242 195  64   0   0   0   0\n",
      "  0   0   0   0   0   0   0  49 238 253 253 253 253 253 253 253 253 251  93  82  82  56  39   0   0   0   0   0\n",
      "  0   0   0   0   0   0   0  18 219 253 253 253 253 253 198 182 247 241   0   0   0   0   0   0   0   0   0   0\n",
      "  0   0   0   0   0   0   0   0  80 156 107 253 253 205  11   0  43 154   0   0   0   0   0   0   0   0   0   0\n",
      "  0   0   0   0   0   0   0   0   0  14   1 154 253  90   0   0   0   0   0   0   0   0   0   0   0   0   0   0\n",
      "  0   0   0   0   0   0   0   0   0   0   0 139 253 190   2   0   0   0   0   0   0   0   0   0   0   0   0   0\n",
      "  0   0   0   0   0   0   0   0   0   0   0  11 190 253  70   0   0   0   0   0   0   0   0   0   0   0   0   0\n",
      "  0   0   0   0   0   0   0   0   0   0   0   0  35 241 225 160 108   1   0   0   0   0   0   0   0   0   0   0\n",
      "  0   0   0   0   0   0   0   0   0   0   0   0   0  81 240 253 253 119  25   0   0   0   0   0   0   0   0   0\n",
      "  0   0   0   0   0   0   0   0   0   0   0   0   0   0  45 186 253 253 150  27   0   0   0   0   0   0   0   0\n",
      "  0   0   0   0   0   0   0   0   0   0   0   0   0   0   0  16  93 252 253 187   0   0   0   0   0   0   0   0\n",
      "  0   0   0   0   0   0   0   0   0   0   0   0   0   0   0   0   0 249 253 249  64   0   0   0   0   0   0   0\n",
      "  0   0   0   0   0   0   0   0   0   0   0   0   0   0  46 130 183 253 253 207   2   0   0   0   0   0   0   0\n",
      "  0   0   0   0   0   0   0   0   0   0   0   0  39 148 229 253 253 253 250 182   0   0   0   0   0   0   0   0\n",
      "  0   0   0   0   0   0   0   0   0   0  24 114 221 253 253 253 253 201  78   0   0   0   0   0   0   0   0   0\n",
      "  0   0   0   0   0   0   0   0  23  66 213 253 253 253 253 198  81   2   0   0   0   0   0   0   0   0   0   0\n",
      "  0   0   0   0   0   0  18 171 219 253 253 253 253 195  80   9   0   0   0   0   0   0   0   0   0   0   0   0\n",
      "  0   0   0   0  55 172 226 253 253 253 253 244 133  11   0   0   0   0   0   0   0   0   0   0   0   0   0   0\n",
      "  0   0   0   0 136 253 253 253 212 135 132  16   0   0   0   0   0   0   0   0   0   0   0   0   0   0   0   0\n",
      "  0   0   0   0   0   0   0   0   0   0   0   0   0   0   0   0   0   0   0   0   0   0   0   0   0   0   0   0\n",
      "  0   0   0   0   0   0   0   0   0   0   0   0   0   0   0   0   0   0   0   0   0   0   0   0   0   0   0   0\n",
      "  0   0   0   0   0   0   0   0   0   0   0   0   0   0   0   0   0   0   0   0   0   0   0   0   0   0   0   0\n"
     ]
    }
   ],
   "source": [
    "for row in train_X[0]:\n",
    "    print(\" \".join(f\"{val:3}\" for val in row))"
   ]
  },
  {
   "cell_type": "code",
   "execution_count": 6,
   "id": "27dded32",
   "metadata": {},
   "outputs": [],
   "source": [
    "train_X = train_X / 255\n",
    "test_X = test_X / 255"
   ]
  },
  {
   "cell_type": "code",
   "execution_count": 7,
   "id": "c7720880",
   "metadata": {},
   "outputs": [],
   "source": [
    "train_X = train_X.reshape(-1, 28*28)\n",
    "test_X = test_X.reshape(-1, 28*28)"
   ]
  },
  {
   "cell_type": "code",
   "execution_count": 8,
   "id": "bde681e9",
   "metadata": {},
   "outputs": [],
   "source": [
    "def one_hot(Y):\n",
    "    one_hot_Y = np.zeros((Y.size, Y.max() + 1))\n",
    "    one_hot_Y[np.arange(Y.size), Y] = 1\n",
    "    return one_hot_Y\n",
    "\n",
    "train_y = one_hot(train_y)\n",
    "test_y = one_hot(test_y)"
   ]
  },
  {
   "attachments": {
    "image-2.png": {
     "image/png": "[encoded data removed]"
    }
   },
   "cell_type": "markdown",
   "id": "dad329f3",
   "metadata": {},
   "source": [
    "![image-2.png](attachment:image-2.png)"
   ]
  },
  {
   "cell_type": "code",
   "execution_count": 59,
   "id": "4195fc3f",
   "metadata": {},
   "outputs": [
    {
     "name": "stdout",
     "output_type": "stream",
     "text": [
      "Iteration:  0\n",
      "Accuracy:  0.10606666666666667\n",
      "Iteration:  50\n",
      "Accuracy:  0.38415\n",
      "Iteration:  100\n",
      "Accuracy:  0.5550833333333334\n",
      "Iteration:  150\n",
      "Accuracy:  0.6522333333333333\n",
      "Iteration:  200\n",
      "Accuracy:  0.7143\n",
      "Iteration:  250\n",
      "Accuracy:  0.7534833333333333\n",
      "Iteration:  300\n",
      "Accuracy:  0.7786833333333333\n",
      "Iteration:  350\n",
      "Accuracy:  0.79665\n",
      "Iteration:  400\n",
      "Accuracy:  0.8093333333333333\n",
      "Iteration:  450\n",
      "Accuracy:  0.8194833333333333\n",
      "Iteration:  500\n",
      "Accuracy:  0.8279333333333333\n",
      "Iteration:  550\n",
      "Accuracy:  0.8352333333333334\n",
      "Iteration:  600\n",
      "Accuracy:  0.8406666666666667\n",
      "Iteration:  650\n",
      "Accuracy:  0.8458\n",
      "Iteration:  700\n",
      "Accuracy:  0.85045\n",
      "Iteration:  750\n",
      "Accuracy:  0.8546166666666667\n",
      "Iteration:  800\n",
      "Accuracy:  0.8578666666666667\n",
      "Iteration:  850\n",
      "Accuracy:  0.8609166666666667\n",
      "Iteration:  900\n",
      "Accuracy:  0.8633333333333333\n",
      "Iteration:  950\n",
      "Accuracy:  0.8661833333333333\n"
     ]
    }
   ],
   "source": [
    "def relu(Z):\n",
    "    return np.maximum(0, Z)\n",
    "    \n",
    "def softmax(Z):\n",
    "    exp_Z = np.exp(Z)  \n",
    "    return exp_Z / np.sum(exp_Z, axis=0, keepdims=True)  \n",
    "\n",
    "def init_tuners():\n",
    "    W1 = np.random.rand(10, 784) - 0.5\n",
    "    b1 = np.random.rand(10, 1) - 0.5  \n",
    "    W2 = np.random.rand(10, 10) - 0.5\n",
    "    b2 = np.random.rand(10, 1) - 0.5\n",
    "    return W1, b1, W2, b2\n",
    "\n",
    "def forward(W1, b1, W2, b2, X):\n",
    "    Z1 = W1.dot(X) + b1\n",
    "    A1 = relu(Z1)\n",
    "    Z2 = W2.dot(A1) + b2\n",
    "    A2 = softmax(Z2)\n",
    "    return Z1, A1, Z2, A2  # \n",
    "\n",
    "def relu_derivative(Z):\n",
    "    return (Z > 0).astype(int)\n",
    "\n",
    "def backward(W1, W2, X, Y, A1, A2, Z1):\n",
    "    m = Y.shape[1]  \n",
    "    dZ2 = A2 - Y  # (10, m) LOSS\n",
    "    dW2 = (1 / m) * dZ2.dot(A1.T)  # (10, m) * (m, 10) -> (10,10) Delta Weight. ERROR * Input (that produced the error) scaled over the whole dataset size\n",
    "    db2 = (1 / m) * np.sum(dZ2, axis=1, keepdims=True)  # (10,1)\n",
    "    \n",
    "    dZ1 = W2.T.dot(dZ2)  * relu_derivative(Z1)\n",
    "    dW1 = (1 / m) * dZ1.dot(X.T)\n",
    "    db1 = (1 / m) * np.sum(dZ1, axis=1, keepdims=True)\n",
    "    return dW1, db1, dW2, db2\n",
    "\n",
    "def tuning(W1, b1, W2, b2, dW1, db1, dW2, db2, lr):\n",
    "    W1 = W1 - lr * dW1\n",
    "    b1 = b1 - lr * db1\n",
    "    W2 = W2 - lr * dW2\n",
    "    b2 = b2 - lr * db2\n",
    "    return W1, b1, W2, b2 \n",
    "\n",
    "def get_predictions(A2):\n",
    "    return np.argmax(A2, 0)\n",
    "\n",
    "def get_accuracy(predictions, Y):\n",
    "    Y_classes = np.argmax(Y, axis=0) \n",
    "    return np.sum(predictions == Y_classes) / Y_classes.size\n",
    "\n",
    "\n",
    "epochs = 1000  \n",
    "learning_rate = 0.1\n",
    "\n",
    "W1, b1, W2, b2 = init_tuners()  \n",
    "\n",
    "X = train_X.T\n",
    "Y = train_y.T\n",
    "\n",
    "for i in range(epochs):\n",
    "    Z1, A1, Z2, A2 = forward(W1, b1, W2, b2, X)\n",
    "    dW1, db1, dW2, db2 = backward(W1, W2, X, Y, A1, A2, Z1)\n",
    "    W1, b1, W2, b2 = tuning(W1, b1, W2, b2, dW1, db1, dW2, db2, learning_rate)\n",
    "    if i % 50 == 0:\n",
    "        print(\"Iteration: \", i)\n",
    "        print(\"Accuracy: \", get_accuracy(get_predictions(A2), Y))"
   ]
  },
  {
   "cell_type": "code",
   "execution_count": null,
   "id": "a19e1534",
   "metadata": {},
   "outputs": [],
   "source": [
    "# do it with pytorch to get the hang"
   ]
  }
 ],
 "metadata": {
  "kernelspec": {
   "display_name": "Python 3 (ipykernel)",
   "language": "python",
   "name": "python3"
  },
  "language_info": {
   "codemirror_mode": {
    "name": "ipython",
    "version": 3
   },
   "file_extension": ".py",
   "mimetype": "text/x-python",
   "name": "python",
   "nbconvert_exporter": "python",
   "pygments_lexer": "ipython3",
   "version": "3.10.9"
  }
 },
 "nbformat": 4,
 "nbformat_minor": 5
}
